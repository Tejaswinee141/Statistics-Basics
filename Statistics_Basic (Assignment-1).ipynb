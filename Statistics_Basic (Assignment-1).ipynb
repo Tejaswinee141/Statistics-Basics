{
  "nbformat": 4,
  "nbformat_minor": 0,
  "metadata": {
    "colab": {
      "provenance": []
    },
    "kernelspec": {
      "name": "python3",
      "display_name": "Python 3"
    },
    "language_info": {
      "name": "python"
    }
  },
  "cells": [
    {
      "cell_type": "markdown",
      "source": [],
      "metadata": {
        "id": "F2KUW1ec_mUk"
      }
    },
    {
      "cell_type": "markdown",
      "source": [
        "**1. What is statistics, and why is it important?**\n",
        "- Statistics is the branch of mathematics that deals with collecting, organizing, analyzing, interpreting, and presenting data. It helps us make sense of numerical information and supports decision-making in uncertain situations.\n",
        "- Statistics is important because it helps us collect, analyze, and interpret data, allowing for informed decisions, identifying trends, solving problems, and making accurate predictions in various fields of life.\n",
        "\n",
        "**2. What are the two main types of statistics?**\n",
        "- **Descriptive Statistics** – Summarizes and describes the main features of a dataset using measures like mean, median, mode, and standard deviation.\n",
        "\n",
        "- **Inferential Statistics** – Draws conclusions and makes predictions about a population based on data from a sample, using techniques like hypothesis testing and confidence intervals.\n",
        "\n",
        "**3. What are descriptive statistics?**\n",
        "- Descriptive statistics are methods used to summarize, organize, and present data in a clear and understandable way.\n",
        "\n",
        "**4. What is inferential statistics?**\n",
        "- Inferential statistics is the branch of statistics that uses data from a sample to make predictions, estimates, or decisions about a larger population.\n",
        "\n",
        "**5. What is sampling in statistics?**\n",
        "- Sampling in statistics is the process of selecting a subset of individuals or observations, called a sample from a larger group, called a population to analyze and draw conclusions about the entire group.\n",
        "\n",
        "**6. What are the different types of sampling methods?**\n",
        "- There are 4 different types of sampling methods:\n",
        "\n",
        "**a. Simple Random Sampling**\n",
        "- Every member of the population has an equal chance of being selected.\n",
        "\n",
        "**b. Systematic Sampling**\n",
        "- Selection of every kth member from a list after a random starting point.\n",
        "\n",
        "**c. Stratified Sampling**\n",
        "- Population is divided into subgroups (strata) based on characteristics (e.g., age, gender), and random samples are taken from each stratum.\n",
        "\n",
        "**d. Cluster Sampling**\n",
        "- Population is divided into clusters (often geographically), and entire clusters are randomly selected.\n",
        "\n",
        "**7. What is the difference between random and non-random sampling?**\n",
        "- **Random sampling** selects members from a population where every individual has an equal and known chance of being chosen, making the sample more likely to represent the entire population and allowing for valid generalizations.\n",
        "-**Non-random sampling** involves selecting members based on convenience, judgment, or other non-random methods, which is easier and quicker but can introduce bias and limit the ability to generalize results to the whole population.\n",
        "\n",
        "**8. Define and give examples of qualitative and quantitative data.**\n",
        "- **Qualitative data** is descriptive information that represents characteristics or attributes and cannot be measured numerically. It often answers “what” or “why” questions.\n",
        "**Example:** Colors of cars (red, blue, black), types of cuisine (Italian, Chinese), or customer feedback like “satisfied” or “unsatisfied.”\n",
        "\n",
        "- **Quantitative data** is numerical information that can be measured and counted, allowing for mathematical calculations and statistical analysis. It answers “how many” or “how much” questions.\n",
        "**Example:** Number of students in a class (30), temperature in degrees Celsius (25°C), or a person’s height in centimeters (170 cm).\n",
        "\n",
        "**9. What are the different types of data in statistics?**\n",
        "- **Qualitative (Categorical) Data**\n",
        "- Nominal Data (categories without order, e.g., gender, colors)\n",
        "- Ordinal Data (categories with a meaningful order, e.g., rankings, satisfaction levels)\n",
        "- **Quantitative (Numerical) Data**\n",
        "- Discrete Data (countable values, e.g., number of students, number of cars)\n",
        "- Continuous Data (measurable values that can take any value in a range, e.g., height, temperature).\n",
        "\n",
        "**10. Explain nominal, ordinal, interval, and ratio levels of measurements.**\n",
        "- **Nominal Level:** Data are categorized without any order or ranking. The categories are simply names or labels.\n",
        "- **Ordinal Level:** Data are categorized with a meaningful order or ranking, but the intervals between ranks are not necessarily equal.\n",
        "- **Interval Level:** Data have ordered categories with equal intervals between values, but no true zero point (zero does not mean “none”).\n",
        "\n",
        "**11. What is the measure of central tendency?**\n",
        "- The measure of central tendency is a statistical value that represents the center or typical value of a dataset, summarizing the data with a single number such as the mean, median, or mode, which helps describe the overall distribution and provides insight into the general pattern of the data.\n",
        "\n",
        "**12. Define mean, median, and mode.**\n",
        "\n",
        "* **Mean**: The average of all data values, calculated by adding them together and dividing by the number of values.\n",
        "* **Median**: The middle value in an ordered dataset, which divides the data into two equal halves.\n",
        "* **Mode**: The value that appears most frequently in a dataset.\n",
        "\n",
        "**13. What is the significance of the measure of central tendency?**\n",
        "- Summarizes large datasets with a single representative value.\n",
        "- Helps identify the “typical” or average value.\n",
        "- Facilitates comparison between different datasets.\n",
        "- Aids in decision-making and data interpretation.\n",
        "- Provides a foundation for other statistical analyses.\n",
        "\n",
        "**14. What is variance, and how is it calculated?**\n",
        "- **Variance** is a measure of how much the values in a dataset spread out or differ from the mean (average). It shows the average squared difference between each data point and the mean, indicating the data’s variability.\n",
        "Find the mean (average) of the data.\n",
        "\n",
        "To calculate:\n",
        "- Subtract the mean from each data value to find the deviation for each point.\n",
        "- Square each deviation (to remove negative signs).\n",
        "- Find the average of these squared deviations.\n",
        "- For a population variance: divide by the total number of data points, N.\n",
        "- For a sample variance: divide by one less than the number of data points, n − 1 (to correct bias).\n",
        "\n",
        "**15. What is standard deviation, and why is it important?**\n",
        "- **Standard deviation** is a measure that shows how much the values in a dataset typically deviate or spread out from the mean, expressed in the same units as the data. It is the square root of the variance.\n",
        "\n",
        "Importances:\n",
        "- It provides a clear idea of the data’s variability or consistency.\n",
        "- Helps compare the spread between different datasets.\n",
        "- Used in risk assessment, quality control, and many statistical analyses.\n",
        "- A small standard deviation means data points are close to the mean, while a large one indicates more spread.\n",
        "\n",
        "**16. Define and explain the term range in statistics.**\n",
        "- The **range** in statistics is a simple measure of dispersion that represents the difference between the highest and lowest values in a dataset.\n",
        "- It gives a quick sense of how spread out the data are, indicating the overall variability. However, the range only considers the extreme values and doesn’t provide information about the distribution of data in between, making it sensitive to outliers.\n",
        "\n",
        "**17. What is the difference between variance and standard deviation?**\n",
        "- variance measures the average squared differences from the mean, while standard deviation is the square root of the variance, expressing the spread of data in the original units. Standard deviation is more intuitive and easier to interpret because it’s in the same scale as the data, whereas variance is in squared units.\n",
        "\n",
        "**18. What is skewness in a dataset?**\n",
        "- Skewness in a dataset measures the asymmetry or lack of symmetry in the distribution of data values around the mean.\n",
        "\n",
        "**19. What does it mean if a dataset is positively or negatively skewed?**\n",
        "- If a dataset is **positively skewed**, it means the distribution has a longer tail on the right side, with most data values clustered toward the lower end but a few unusually high values stretching out the tail.\n",
        "- If a dataset is **negatively skewed**, it has a longer tail on the left side, with most values concentrated toward the higher end but some unusually low values pulling the distribution left. Positive skew indicates more extreme high values, while negative skew indicates more extreme low values.\n",
        "\n",
        "**20.  Define and explain kurtosis.**\n",
        "- Kurtosis measures the shape of a data distribution, focusing on the heaviness of its tails and the sharpness of its peak. High kurtosis indicates more extreme outliers and a sharper peak, while low kurtosis shows fewer outliers and a flatter distribution compared to a normal distribution.\n",
        "\n",
        "**21. What is the purpose of covariance?**\n",
        "- Covariance measures how two variables change together, indicating whether they tend to increase or decrease simultaneously, helping to understand the direction of their relationship.\n",
        "\n",
        "**22. What does correlation measure in statistics?**\n",
        "- In statistics, **correlation** measures the strength and direction of the linear relationship between two variables, showing how closely they move together.\n",
        "\n",
        "**23. What is the difference between covariance and correlation?**\n",
        "- Covariance shows how two variables vary together but is affected by their units, while correlation standardizes this relationship, measuring both strength and direction on a scale from -1 to 1, making it easier to compare across different datasets.\n",
        "\n",
        " **24.  What are some real-world applications of statistics?**\n",
        "- **Healthcare:** Analyzing patient data to improve treatments and track disease outbreaks.\n",
        "- **Business:** Making marketing decisions and forecasting sales trends.\n",
        "- **Government:** Conducting censuses and shaping public policies.\n",
        "- **Sports:** Evaluating player performance and game strategies.\n",
        "- **Education:** Assessing student performance and improving teaching methods.\n",
        "- **Finance:** Managing risk and analyzing investment portfolios.\n",
        "\n",
        "\n",
        "\n",
        "\n",
        "\n"
      ],
      "metadata": {
        "id": "fOm6Psvu_u4X"
      }
    },
    {
      "cell_type": "markdown",
      "source": [
        "**PRACTICAL QUESTIONS**"
      ],
      "metadata": {
        "id": "3JA6oMTFLhHS"
      }
    },
    {
      "cell_type": "code",
      "source": [
        "#1 How do you calculate the mean, median, and mode of a dataset?\n",
        "#Mean:\n",
        "age = [27,36,23,56,94]\n",
        "import numpy as np\n",
        "np. mean(age)"
      ],
      "metadata": {
        "id": "8SD9ysJ7LWbG",
        "colab": {
          "base_uri": "https://localhost:8080/"
        },
        "outputId": "62a48e58-1104-4909-8d43-4abce8d20cb8"
      },
      "execution_count": 2,
      "outputs": [
        {
          "output_type": "execute_result",
          "data": {
            "text/plain": [
              "np.float64(47.2)"
            ]
          },
          "metadata": {},
          "execution_count": 2
        }
      ]
    },
    {
      "cell_type": "code",
      "source": [
        "#Median\n",
        "np.median(age)"
      ],
      "metadata": {
        "colab": {
          "base_uri": "https://localhost:8080/"
        },
        "id": "f98IhKsYP2Jt",
        "outputId": "ffc72655-5b12-4c67-d91d-e32738685847"
      },
      "execution_count": 4,
      "outputs": [
        {
          "output_type": "execute_result",
          "data": {
            "text/plain": [
              "np.float64(36.0)"
            ]
          },
          "metadata": {},
          "execution_count": 4
        }
      ]
    },
    {
      "cell_type": "code",
      "source": [
        "#Mode\n",
        "import statistics\n",
        "statistics.mode(age)"
      ],
      "metadata": {
        "colab": {
          "base_uri": "https://localhost:8080/"
        },
        "id": "70mrUzfUQDy-",
        "outputId": "10e01be5-6e15-4659-daac-43e33e36c851"
      },
      "execution_count": 6,
      "outputs": [
        {
          "output_type": "execute_result",
          "data": {
            "text/plain": [
              "27"
            ]
          },
          "metadata": {},
          "execution_count": 6
        }
      ]
    },
    {
      "cell_type": "code",
      "source": [
        "#2  Write a Python program to compute the variance and standard deviation of a dataset.\n",
        "data = [2,3,4,5,6,7,8,9,10,11,12,13,14,15]\n",
        "# Variance:\n",
        "np.var(data)"
      ],
      "metadata": {
        "colab": {
          "base_uri": "https://localhost:8080/"
        },
        "id": "lacruYsNQVPO",
        "outputId": "482d19cf-afe5-4a2b-86c3-00bca98b6ca5"
      },
      "execution_count": 8,
      "outputs": [
        {
          "output_type": "execute_result",
          "data": {
            "text/plain": [
              "np.float64(16.25)"
            ]
          },
          "metadata": {},
          "execution_count": 8
        }
      ]
    },
    {
      "cell_type": "code",
      "source": [
        "#Standard Deviation:\n",
        "np.std(data)"
      ],
      "metadata": {
        "colab": {
          "base_uri": "https://localhost:8080/"
        },
        "id": "_nK1qhSyRYzz",
        "outputId": "ac74aa45-71a1-416b-e95c-dbb92553febd"
      },
      "execution_count": 10,
      "outputs": [
        {
          "output_type": "execute_result",
          "data": {
            "text/plain": [
              "np.float64(4.031128874149275)"
            ]
          },
          "metadata": {},
          "execution_count": 10
        }
      ]
    },
    {
      "cell_type": "code",
      "source": [
        "#3 Create a dataset and classify it into nominal, ordinal, interval, and ratio types.\n",
        "import pandas as pd\n",
        "\n",
        "# Create a sample dataset\n",
        "data = {\n",
        "    'CustomerID': [101, 102, 103, 104, 105],\n",
        "    'Gender': ['Male', 'Female', 'Male', 'Female', 'Male'],\n",
        "    'Education_Level': ['High School', 'Bachelor', 'Master', 'High School', 'Bachelor'],\n",
        "    'Temperature_F': [70, 75, 68, 72, 78],\n",
        "    'Annual_Income_USD': [50000, 65000, 90000, 55000, 70000]\n",
        "}\n",
        "\n",
        "df = pd.DataFrame(data)\n",
        "\n",
        "print(\"Dataset:\")\n",
        "display(df)"
      ],
      "metadata": {
        "colab": {
          "base_uri": "https://localhost:8080/",
          "height": 223
        },
        "id": "xLZRfjfBRgr6",
        "outputId": "0324c566-8a84-4fad-912f-3dc030558ca0"
      },
      "execution_count": 12,
      "outputs": [
        {
          "output_type": "stream",
          "name": "stdout",
          "text": [
            "Dataset:\n"
          ]
        },
        {
          "output_type": "display_data",
          "data": {
            "text/plain": [
              "   CustomerID  Gender Education_Level  Temperature_F  Annual_Income_USD\n",
              "0         101    Male     High School             70              50000\n",
              "1         102  Female        Bachelor             75              65000\n",
              "2         103    Male          Master             68              90000\n",
              "3         104  Female     High School             72              55000\n",
              "4         105    Male        Bachelor             78              70000"
            ],
            "text/html": [
              "\n",
              "  <div id=\"df-2b62ce25-bf89-43db-bb5e-d1c63d8f8276\" class=\"colab-df-container\">\n",
              "    <div>\n",
              "<style scoped>\n",
              "    .dataframe tbody tr th:only-of-type {\n",
              "        vertical-align: middle;\n",
              "    }\n",
              "\n",
              "    .dataframe tbody tr th {\n",
              "        vertical-align: top;\n",
              "    }\n",
              "\n",
              "    .dataframe thead th {\n",
              "        text-align: right;\n",
              "    }\n",
              "</style>\n",
              "<table border=\"1\" class=\"dataframe\">\n",
              "  <thead>\n",
              "    <tr style=\"text-align: right;\">\n",
              "      <th></th>\n",
              "      <th>CustomerID</th>\n",
              "      <th>Gender</th>\n",
              "      <th>Education_Level</th>\n",
              "      <th>Temperature_F</th>\n",
              "      <th>Annual_Income_USD</th>\n",
              "    </tr>\n",
              "  </thead>\n",
              "  <tbody>\n",
              "    <tr>\n",
              "      <th>0</th>\n",
              "      <td>101</td>\n",
              "      <td>Male</td>\n",
              "      <td>High School</td>\n",
              "      <td>70</td>\n",
              "      <td>50000</td>\n",
              "    </tr>\n",
              "    <tr>\n",
              "      <th>1</th>\n",
              "      <td>102</td>\n",
              "      <td>Female</td>\n",
              "      <td>Bachelor</td>\n",
              "      <td>75</td>\n",
              "      <td>65000</td>\n",
              "    </tr>\n",
              "    <tr>\n",
              "      <th>2</th>\n",
              "      <td>103</td>\n",
              "      <td>Male</td>\n",
              "      <td>Master</td>\n",
              "      <td>68</td>\n",
              "      <td>90000</td>\n",
              "    </tr>\n",
              "    <tr>\n",
              "      <th>3</th>\n",
              "      <td>104</td>\n",
              "      <td>Female</td>\n",
              "      <td>High School</td>\n",
              "      <td>72</td>\n",
              "      <td>55000</td>\n",
              "    </tr>\n",
              "    <tr>\n",
              "      <th>4</th>\n",
              "      <td>105</td>\n",
              "      <td>Male</td>\n",
              "      <td>Bachelor</td>\n",
              "      <td>78</td>\n",
              "      <td>70000</td>\n",
              "    </tr>\n",
              "  </tbody>\n",
              "</table>\n",
              "</div>\n",
              "    <div class=\"colab-df-buttons\">\n",
              "\n",
              "  <div class=\"colab-df-container\">\n",
              "    <button class=\"colab-df-convert\" onclick=\"convertToInteractive('df-2b62ce25-bf89-43db-bb5e-d1c63d8f8276')\"\n",
              "            title=\"Convert this dataframe to an interactive table.\"\n",
              "            style=\"display:none;\">\n",
              "\n",
              "  <svg xmlns=\"http://www.w3.org/2000/svg\" height=\"24px\" viewBox=\"0 -960 960 960\">\n",
              "    <path d=\"M120-120v-720h720v720H120Zm60-500h600v-160H180v160Zm220 220h160v-160H400v160Zm0 220h160v-160H400v160ZM180-400h160v-160H180v160Zm440 0h160v-160H620v160ZM180-180h160v-160H180v160Zm440 0h160v-160H620v160Z\"/>\n",
              "  </svg>\n",
              "    </button>\n",
              "\n",
              "  <style>\n",
              "    .colab-df-container {\n",
              "      display:flex;\n",
              "      gap: 12px;\n",
              "    }\n",
              "\n",
              "    .colab-df-convert {\n",
              "      background-color: #E8F0FE;\n",
              "      border: none;\n",
              "      border-radius: 50%;\n",
              "      cursor: pointer;\n",
              "      display: none;\n",
              "      fill: #1967D2;\n",
              "      height: 32px;\n",
              "      padding: 0 0 0 0;\n",
              "      width: 32px;\n",
              "    }\n",
              "\n",
              "    .colab-df-convert:hover {\n",
              "      background-color: #E2EBFA;\n",
              "      box-shadow: 0px 1px 2px rgba(60, 64, 67, 0.3), 0px 1px 3px 1px rgba(60, 64, 67, 0.15);\n",
              "      fill: #174EA6;\n",
              "    }\n",
              "\n",
              "    .colab-df-buttons div {\n",
              "      margin-bottom: 4px;\n",
              "    }\n",
              "\n",
              "    [theme=dark] .colab-df-convert {\n",
              "      background-color: #3B4455;\n",
              "      fill: #D2E3FC;\n",
              "    }\n",
              "\n",
              "    [theme=dark] .colab-df-convert:hover {\n",
              "      background-color: #434B5C;\n",
              "      box-shadow: 0px 1px 3px 1px rgba(0, 0, 0, 0.15);\n",
              "      filter: drop-shadow(0px 1px 2px rgba(0, 0, 0, 0.3));\n",
              "      fill: #FFFFFF;\n",
              "    }\n",
              "  </style>\n",
              "\n",
              "    <script>\n",
              "      const buttonEl =\n",
              "        document.querySelector('#df-2b62ce25-bf89-43db-bb5e-d1c63d8f8276 button.colab-df-convert');\n",
              "      buttonEl.style.display =\n",
              "        google.colab.kernel.accessAllowed ? 'block' : 'none';\n",
              "\n",
              "      async function convertToInteractive(key) {\n",
              "        const element = document.querySelector('#df-2b62ce25-bf89-43db-bb5e-d1c63d8f8276');\n",
              "        const dataTable =\n",
              "          await google.colab.kernel.invokeFunction('convertToInteractive',\n",
              "                                                    [key], {});\n",
              "        if (!dataTable) return;\n",
              "\n",
              "        const docLinkHtml = 'Like what you see? Visit the ' +\n",
              "          '<a target=\"_blank\" href=https://colab.research.google.com/notebooks/data_table.ipynb>data table notebook</a>'\n",
              "          + ' to learn more about interactive tables.';\n",
              "        element.innerHTML = '';\n",
              "        dataTable['output_type'] = 'display_data';\n",
              "        await google.colab.output.renderOutput(dataTable, element);\n",
              "        const docLink = document.createElement('div');\n",
              "        docLink.innerHTML = docLinkHtml;\n",
              "        element.appendChild(docLink);\n",
              "      }\n",
              "    </script>\n",
              "  </div>\n",
              "\n",
              "\n",
              "    <div id=\"df-38fad0d7-b020-4a99-a38d-71bf25fe172d\">\n",
              "      <button class=\"colab-df-quickchart\" onclick=\"quickchart('df-38fad0d7-b020-4a99-a38d-71bf25fe172d')\"\n",
              "                title=\"Suggest charts\"\n",
              "                style=\"display:none;\">\n",
              "\n",
              "<svg xmlns=\"http://www.w3.org/2000/svg\" height=\"24px\"viewBox=\"0 0 24 24\"\n",
              "     width=\"24px\">\n",
              "    <g>\n",
              "        <path d=\"M19 3H5c-1.1 0-2 .9-2 2v14c0 1.1.9 2 2 2h14c1.1 0 2-.9 2-2V5c0-1.1-.9-2-2-2zM9 17H7v-7h2v7zm4 0h-2V7h2v10zm4 0h-2v-4h2v4z\"/>\n",
              "    </g>\n",
              "</svg>\n",
              "      </button>\n",
              "\n",
              "<style>\n",
              "  .colab-df-quickchart {\n",
              "      --bg-color: #E8F0FE;\n",
              "      --fill-color: #1967D2;\n",
              "      --hover-bg-color: #E2EBFA;\n",
              "      --hover-fill-color: #174EA6;\n",
              "      --disabled-fill-color: #AAA;\n",
              "      --disabled-bg-color: #DDD;\n",
              "  }\n",
              "\n",
              "  [theme=dark] .colab-df-quickchart {\n",
              "      --bg-color: #3B4455;\n",
              "      --fill-color: #D2E3FC;\n",
              "      --hover-bg-color: #434B5C;\n",
              "      --hover-fill-color: #FFFFFF;\n",
              "      --disabled-bg-color: #3B4455;\n",
              "      --disabled-fill-color: #666;\n",
              "  }\n",
              "\n",
              "  .colab-df-quickchart {\n",
              "    background-color: var(--bg-color);\n",
              "    border: none;\n",
              "    border-radius: 50%;\n",
              "    cursor: pointer;\n",
              "    display: none;\n",
              "    fill: var(--fill-color);\n",
              "    height: 32px;\n",
              "    padding: 0;\n",
              "    width: 32px;\n",
              "  }\n",
              "\n",
              "  .colab-df-quickchart:hover {\n",
              "    background-color: var(--hover-bg-color);\n",
              "    box-shadow: 0 1px 2px rgba(60, 64, 67, 0.3), 0 1px 3px 1px rgba(60, 64, 67, 0.15);\n",
              "    fill: var(--button-hover-fill-color);\n",
              "  }\n",
              "\n",
              "  .colab-df-quickchart-complete:disabled,\n",
              "  .colab-df-quickchart-complete:disabled:hover {\n",
              "    background-color: var(--disabled-bg-color);\n",
              "    fill: var(--disabled-fill-color);\n",
              "    box-shadow: none;\n",
              "  }\n",
              "\n",
              "  .colab-df-spinner {\n",
              "    border: 2px solid var(--fill-color);\n",
              "    border-color: transparent;\n",
              "    border-bottom-color: var(--fill-color);\n",
              "    animation:\n",
              "      spin 1s steps(1) infinite;\n",
              "  }\n",
              "\n",
              "  @keyframes spin {\n",
              "    0% {\n",
              "      border-color: transparent;\n",
              "      border-bottom-color: var(--fill-color);\n",
              "      border-left-color: var(--fill-color);\n",
              "    }\n",
              "    20% {\n",
              "      border-color: transparent;\n",
              "      border-left-color: var(--fill-color);\n",
              "      border-top-color: var(--fill-color);\n",
              "    }\n",
              "    30% {\n",
              "      border-color: transparent;\n",
              "      border-left-color: var(--fill-color);\n",
              "      border-top-color: var(--fill-color);\n",
              "      border-right-color: var(--fill-color);\n",
              "    }\n",
              "    40% {\n",
              "      border-color: transparent;\n",
              "      border-right-color: var(--fill-color);\n",
              "      border-top-color: var(--fill-color);\n",
              "    }\n",
              "    60% {\n",
              "      border-color: transparent;\n",
              "      border-right-color: var(--fill-color);\n",
              "    }\n",
              "    80% {\n",
              "      border-color: transparent;\n",
              "      border-right-color: var(--fill-color);\n",
              "      border-bottom-color: var(--fill-color);\n",
              "    }\n",
              "    90% {\n",
              "      border-color: transparent;\n",
              "      border-bottom-color: var(--fill-color);\n",
              "    }\n",
              "  }\n",
              "</style>\n",
              "\n",
              "      <script>\n",
              "        async function quickchart(key) {\n",
              "          const quickchartButtonEl =\n",
              "            document.querySelector('#' + key + ' button');\n",
              "          quickchartButtonEl.disabled = true;  // To prevent multiple clicks.\n",
              "          quickchartButtonEl.classList.add('colab-df-spinner');\n",
              "          try {\n",
              "            const charts = await google.colab.kernel.invokeFunction(\n",
              "                'suggestCharts', [key], {});\n",
              "          } catch (error) {\n",
              "            console.error('Error during call to suggestCharts:', error);\n",
              "          }\n",
              "          quickchartButtonEl.classList.remove('colab-df-spinner');\n",
              "          quickchartButtonEl.classList.add('colab-df-quickchart-complete');\n",
              "        }\n",
              "        (() => {\n",
              "          let quickchartButtonEl =\n",
              "            document.querySelector('#df-38fad0d7-b020-4a99-a38d-71bf25fe172d button');\n",
              "          quickchartButtonEl.style.display =\n",
              "            google.colab.kernel.accessAllowed ? 'block' : 'none';\n",
              "        })();\n",
              "      </script>\n",
              "    </div>\n",
              "\n",
              "  <div id=\"id_ae2b3ce6-ae61-4822-afd1-1dd4e4868e1d\">\n",
              "    <style>\n",
              "      .colab-df-generate {\n",
              "        background-color: #E8F0FE;\n",
              "        border: none;\n",
              "        border-radius: 50%;\n",
              "        cursor: pointer;\n",
              "        display: none;\n",
              "        fill: #1967D2;\n",
              "        height: 32px;\n",
              "        padding: 0 0 0 0;\n",
              "        width: 32px;\n",
              "      }\n",
              "\n",
              "      .colab-df-generate:hover {\n",
              "        background-color: #E2EBFA;\n",
              "        box-shadow: 0px 1px 2px rgba(60, 64, 67, 0.3), 0px 1px 3px 1px rgba(60, 64, 67, 0.15);\n",
              "        fill: #174EA6;\n",
              "      }\n",
              "\n",
              "      [theme=dark] .colab-df-generate {\n",
              "        background-color: #3B4455;\n",
              "        fill: #D2E3FC;\n",
              "      }\n",
              "\n",
              "      [theme=dark] .colab-df-generate:hover {\n",
              "        background-color: #434B5C;\n",
              "        box-shadow: 0px 1px 3px 1px rgba(0, 0, 0, 0.15);\n",
              "        filter: drop-shadow(0px 1px 2px rgba(0, 0, 0, 0.3));\n",
              "        fill: #FFFFFF;\n",
              "      }\n",
              "    </style>\n",
              "    <button class=\"colab-df-generate\" onclick=\"generateWithVariable('df')\"\n",
              "            title=\"Generate code using this dataframe.\"\n",
              "            style=\"display:none;\">\n",
              "\n",
              "  <svg xmlns=\"http://www.w3.org/2000/svg\" height=\"24px\"viewBox=\"0 0 24 24\"\n",
              "       width=\"24px\">\n",
              "    <path d=\"M7,19H8.4L18.45,9,17,7.55,7,17.6ZM5,21V16.75L18.45,3.32a2,2,0,0,1,2.83,0l1.4,1.43a1.91,1.91,0,0,1,.58,1.4,1.91,1.91,0,0,1-.58,1.4L9.25,21ZM18.45,9,17,7.55Zm-12,3A5.31,5.31,0,0,0,4.9,8.1,5.31,5.31,0,0,0,1,6.5,5.31,5.31,0,0,0,4.9,4.9,5.31,5.31,0,0,0,6.5,1,5.31,5.31,0,0,0,8.1,4.9,5.31,5.31,0,0,0,12,6.5,5.46,5.46,0,0,0,6.5,12Z\"/>\n",
              "  </svg>\n",
              "    </button>\n",
              "    <script>\n",
              "      (() => {\n",
              "      const buttonEl =\n",
              "        document.querySelector('#id_ae2b3ce6-ae61-4822-afd1-1dd4e4868e1d button.colab-df-generate');\n",
              "      buttonEl.style.display =\n",
              "        google.colab.kernel.accessAllowed ? 'block' : 'none';\n",
              "\n",
              "      buttonEl.onclick = () => {\n",
              "        google.colab.notebook.generateWithVariable('df');\n",
              "      }\n",
              "      })();\n",
              "    </script>\n",
              "  </div>\n",
              "\n",
              "    </div>\n",
              "  </div>\n"
            ],
            "application/vnd.google.colaboratory.intrinsic+json": {
              "type": "dataframe",
              "variable_name": "df",
              "summary": "{\n  \"name\": \"df\",\n  \"rows\": 5,\n  \"fields\": [\n    {\n      \"column\": \"CustomerID\",\n      \"properties\": {\n        \"dtype\": \"number\",\n        \"std\": 1,\n        \"min\": 101,\n        \"max\": 105,\n        \"num_unique_values\": 5,\n        \"samples\": [\n          102,\n          105,\n          103\n        ],\n        \"semantic_type\": \"\",\n        \"description\": \"\"\n      }\n    },\n    {\n      \"column\": \"Gender\",\n      \"properties\": {\n        \"dtype\": \"category\",\n        \"num_unique_values\": 2,\n        \"samples\": [\n          \"Female\",\n          \"Male\"\n        ],\n        \"semantic_type\": \"\",\n        \"description\": \"\"\n      }\n    },\n    {\n      \"column\": \"Education_Level\",\n      \"properties\": {\n        \"dtype\": \"string\",\n        \"num_unique_values\": 3,\n        \"samples\": [\n          \"High School\",\n          \"Bachelor\"\n        ],\n        \"semantic_type\": \"\",\n        \"description\": \"\"\n      }\n    },\n    {\n      \"column\": \"Temperature_F\",\n      \"properties\": {\n        \"dtype\": \"number\",\n        \"std\": 3,\n        \"min\": 68,\n        \"max\": 78,\n        \"num_unique_values\": 5,\n        \"samples\": [\n          75,\n          78\n        ],\n        \"semantic_type\": \"\",\n        \"description\": \"\"\n      }\n    },\n    {\n      \"column\": \"Annual_Income_USD\",\n      \"properties\": {\n        \"dtype\": \"number\",\n        \"std\": 15572,\n        \"min\": 50000,\n        \"max\": 90000,\n        \"num_unique_values\": 5,\n        \"samples\": [\n          65000,\n          70000\n        ],\n        \"semantic_type\": \"\",\n        \"description\": \"\"\n      }\n    }\n  ]\n}"
            }
          },
          "metadata": {}
        }
      ]
    },
    {
      "cell_type": "code",
      "source": [
        "#4  Implement sampling techniques like random sampling and stratified sampling.\n",
        "data = {\n",
        "    'ID': range(1, 21),\n",
        "    'Gender': ['Male', 'Female'] * 10,\n",
        "    'Score': [56, 78, 67, 82, 45, 90, 72, 66, 80, 70, 60, 75, 84, 69, 77, 85, 88, 59, 73, 91]\n",
        "}\n",
        "\n",
        "df = pd.DataFrame(data)\n",
        "print(\"Original Dataset:\")\n",
        "print(df)\n",
        "\n",
        "print(\"\\nRandom Sampling (20% sample):\")\n",
        "random_sample = df.sample(frac=0.2, random_state=42)  # 20% random sample\n",
        "print(random_sample)\n",
        "\n",
        "print(\"\\nStratified Sampling (30% sample, stratified by Gender):\")\n",
        "stratified_sample = df.groupby('Gender').apply(lambda x: x.sample(frac=0.3, random_state=42)).reset_index(drop=True)\n",
        "print(stratified_sample)"
      ],
      "metadata": {
        "colab": {
          "base_uri": "https://localhost:8080/"
        },
        "id": "QeM9PJzRURro",
        "outputId": "b9a1d288-9f01-4345-aeae-d7bbf2b59c59"
      },
      "execution_count": 15,
      "outputs": [
        {
          "output_type": "stream",
          "name": "stdout",
          "text": [
            "Original Dataset:\n",
            "    ID  Gender  Score\n",
            "0    1    Male     56\n",
            "1    2  Female     78\n",
            "2    3    Male     67\n",
            "3    4  Female     82\n",
            "4    5    Male     45\n",
            "5    6  Female     90\n",
            "6    7    Male     72\n",
            "7    8  Female     66\n",
            "8    9    Male     80\n",
            "9   10  Female     70\n",
            "10  11    Male     60\n",
            "11  12  Female     75\n",
            "12  13    Male     84\n",
            "13  14  Female     69\n",
            "14  15    Male     77\n",
            "15  16  Female     85\n",
            "16  17    Male     88\n",
            "17  18  Female     59\n",
            "18  19    Male     73\n",
            "19  20  Female     91\n",
            "\n",
            "Random Sampling (20% sample):\n",
            "    ID  Gender  Score\n",
            "0    1    Male     56\n",
            "17  18  Female     59\n",
            "15  16  Female     85\n",
            "1    2  Female     78\n",
            "\n",
            "Stratified Sampling (30% sample, stratified by Gender):\n",
            "   ID  Gender  Score\n",
            "0  18  Female     59\n",
            "1   4  Female     82\n",
            "2  12  Female     75\n",
            "3  17    Male     88\n",
            "4   3    Male     67\n",
            "5  11    Male     60\n"
          ]
        },
        {
          "output_type": "stream",
          "name": "stderr",
          "text": [
            "/tmp/ipython-input-15-2939183698.py:17: DeprecationWarning: DataFrameGroupBy.apply operated on the grouping columns. This behavior is deprecated, and in a future version of pandas the grouping columns will be excluded from the operation. Either pass `include_groups=False` to exclude the groupings or explicitly select the grouping columns after groupby to silence this warning.\n",
            "  stratified_sample = df.groupby('Gender').apply(lambda x: x.sample(frac=0.3, random_state=42)).reset_index(drop=True)\n"
          ]
        }
      ]
    },
    {
      "cell_type": "code",
      "source": [
        "#5 Write a Python function to calculate the range of a dataset\n",
        "data = [2,3,4,5,6,7,8,9,10,11,12,13,14,15]\n",
        "np.max(data)-np.min(data)"
      ],
      "metadata": {
        "colab": {
          "base_uri": "https://localhost:8080/"
        },
        "id": "c0Pk7v8tU4oP",
        "outputId": "0ed8ce5b-94cd-4616-ac86-e50abbe4ccc7"
      },
      "execution_count": 16,
      "outputs": [
        {
          "output_type": "execute_result",
          "data": {
            "text/plain": [
              "np.int64(13)"
            ]
          },
          "metadata": {},
          "execution_count": 16
        }
      ]
    },
    {
      "cell_type": "code",
      "source": [
        "#6 Create a dataset and plot its histogram to visualize skewness\n",
        "import matplotlib.pyplot as plt\n",
        "data = [2,3,4,5,6,7,8,9,10,11,12,13,14,15]\n",
        "plt.hist(data)\n",
        "plt.show()\n"
      ],
      "metadata": {
        "colab": {
          "base_uri": "https://localhost:8080/",
          "height": 430
        },
        "id": "roZY3GeeU-FK",
        "outputId": "3eb76d01-9ab4-4ca0-fdf7-680ee2bafeb2"
      },
      "execution_count": 17,
      "outputs": [
        {
          "output_type": "display_data",
          "data": {
            "text/plain": [
              "<Figure size 640x480 with 1 Axes>"
            ],
            "image/png": "[encoded data removed]"
          },
          "metadata": {}
        }
      ]
    },
    {
      "cell_type": "code",
      "source": [
        "#7  Calculate skewness and kurtosis of a dataset using Python libraries.\n",
        "import scipy.stats as stats\n",
        "data = [2,3,4,5,6,7,8,9,10,11,12,13,14,15]\n",
        "print(\"Skewness:\",stats.skew(data))"
      ],
      "metadata": {
        "colab": {
          "base_uri": "https://localhost:8080/"
        },
        "id": "CUc21vl8VFPz",
        "outputId": "48f3e255-073f-4bc8-d459-1ddc5b69bf8f"
      },
      "execution_count": 18,
      "outputs": [
        {
          "output_type": "stream",
          "name": "stdout",
          "text": [
            "Skewness: 0.0\n"
          ]
        }
      ]
    },
    {
      "cell_type": "code",
      "source": [
        "#8 Generate a dataset and demonstrate positive and negative skewness.\n",
        "data = [2,3,4,5,6,7,8,9,10,11,12,13,14,15]\n",
        "plt.hist(data)\n",
        "plt.show()"
      ],
      "metadata": {
        "colab": {
          "base_uri": "https://localhost:8080/",
          "height": 430
        },
        "id": "SL10wZ66VNfa",
        "outputId": "55a09e1f-8de9-4376-853a-2f5275f8bc62"
      },
      "execution_count": 19,
      "outputs": [
        {
          "output_type": "display_data",
          "data": {
            "text/plain": [
              "<Figure size 640x480 with 1 Axes>"
            ],
            "image/png": "[encoded data removed]"
          },
          "metadata": {}
        }
      ]
    },
    {
      "cell_type": "code",
      "source": [
        "#9 Write a Python script to calculate covariance between two datasets.\n",
        "data1 = [2,3,4,5,6,7,8,9,10,11,12,13,14,15]\n",
        "data2 = [1,2,3,4,5,6,7,8,9,10,11,12,13,14]\n",
        "np.cov(data1,data2)"
      ],
      "metadata": {
        "colab": {
          "base_uri": "https://localhost:8080/"
        },
        "id": "KOJbaKz-Vd02",
        "outputId": "d5950963-9e50-4c76-f3f0-566f35f112e3"
      },
      "execution_count": 20,
      "outputs": [
        {
          "output_type": "execute_result",
          "data": {
            "text/plain": [
              "array([[17.5, 17.5],\n",
              "       [17.5, 17.5]])"
            ]
          },
          "metadata": {},
          "execution_count": 20
        }
      ]
    },
    {
      "cell_type": "code",
      "source": [
        "#10 Write a Python script to calculate the correlation coefficient between two datasets.\n",
        "data1 = [2,3,4,5,6,7,8,9,10,11,12,13,14,1]\n",
        "data2 = [1,2,3,4,5,6,7,8,9,10,11,12,13,14]\n",
        "np.corrcoef(data1,data2)"
      ],
      "metadata": {
        "colab": {
          "base_uri": "https://localhost:8080/"
        },
        "id": "1-P5spy_VlAS",
        "outputId": "226163f2-6523-470b-b853-0014a9b40615"
      },
      "execution_count": 22,
      "outputs": [
        {
          "output_type": "execute_result",
          "data": {
            "text/plain": [
              "array([[1. , 0.6],\n",
              "       [0.6, 1. ]])"
            ]
          },
          "metadata": {},
          "execution_count": 22
        }
      ]
    },
    {
      "cell_type": "code",
      "source": [
        "#11 Create a scatter plot to visualize the relationship between two variables.\n",
        "import pandas as pd\n",
        "import matplotlib.pyplot as plt\n",
        "import seaborn as sns\n",
        "\n",
        "data = {\n",
        "    'Hours Studied': [1, 2, 3, 4, 5, 6, 7, 8, 9, 10],\n",
        "    'Exam Score': [50, 55, 60, 63, 65, 70, 75, 78, 85, 88]\n",
        "}\n",
        "\n",
        "df = pd.DataFrame(data)\n",
        "plt.figure(figsize=(8, 5))\n",
        "sns.scatterplot(data=df, x='Hours Studied', y='Exam Score', color='blue', s=100)\n",
        "\n",
        "plt.title(\"Relationship Between Hours Studied and Exam Score\")\n",
        "plt.xlabel(\"Hours Studied\")\n",
        "plt.ylabel(\"Exam Score\")\n",
        "plt.grid(True)\n",
        "plt.tight_layout()\n",
        "plt.show()"
      ],
      "metadata": {
        "colab": {
          "base_uri": "https://localhost:8080/",
          "height": 507
        },
        "id": "qdfY--YOV2u7",
        "outputId": "e958bc3e-3254-44e9-cf2e-3a17c5e9009d"
      },
      "execution_count": 24,
      "outputs": [
        {
          "output_type": "display_data",
          "data": {
            "text/plain": [
              "<Figure size 800x500 with 1 Axes>"
            ],
            "image/png": "[encoded data removed]"
          },
          "metadata": {}
        }
      ]
    },
    {
      "cell_type": "code",
      "source": [
        "#12 Implement and compare simple random sampling and systematic sampling.\n",
        "import pandas as pd\n",
        "import random\n",
        "data = {\n",
        "    'ID': range(1, 31),\n",
        "    'Value': np.random.randint(50, 100, size=30)\n",
        "}\n",
        "df = pd.DataFrame(data)\n",
        "print(\"Original Dataset:\\n\", df.head())\n",
        "\n",
        "print(\"\\nSimple Random Sampling (5% sample):\")\n",
        "simple_sample = df.sample(frac=0.05, random_state=42)\n",
        "print(simple_sample)\n",
        "\n",
        "print(\"\\nSystematic Sampling (every 5th row):\")\n",
        "step = 5\n",
        "systematic_sample = df.iloc[::step, :]\n",
        "print(systematic_sample)\n"
      ],
      "metadata": {
        "colab": {
          "base_uri": "https://localhost:8080/"
        },
        "id": "rwnLNpnpWexl",
        "outputId": "34903237-7965-44b0-b0d2-e8f2e49f4d84"
      },
      "execution_count": 27,
      "outputs": [
        {
          "output_type": "stream",
          "name": "stdout",
          "text": [
            "Original Dataset:\n",
            "    ID  Value\n",
            "0   1     84\n",
            "1   2     54\n",
            "2   3     55\n",
            "3   4     73\n",
            "4   5     79\n",
            "\n",
            "Simple Random Sampling (5% sample):\n",
            "    ID  Value\n",
            "27  28     77\n",
            "15  16     52\n",
            "\n",
            "Systematic Sampling (every 5th row):\n",
            "    ID  Value\n",
            "0    1     84\n",
            "5    6     60\n",
            "10  11     86\n",
            "15  16     52\n",
            "20  21     97\n",
            "25  26     78\n"
          ]
        }
      ]
    },
    {
      "cell_type": "code",
      "source": [
        "#13 Calculate the mean, median, and mode of grouped data\n",
        "\n",
        "lower_bounds = [0, 10, 20, 30, 40]\n",
        "upper_bounds = [10, 20, 30, 40, 50]\n",
        "frequencies = [5, 8, 15, 16, 6]\n",
        "\n",
        "midpoints = [(l + u) / 2 for l, u in zip(lower_bounds, upper_bounds)]\n",
        "\n",
        "total_freq = sum(frequencies)\n",
        "mean = sum(f * x for f, x in zip(frequencies, midpoints)) / total_freq\n",
        "\n",
        "cf = [sum(frequencies[:i+1]) for i in range(len(frequencies))]\n",
        "N = total_freq\n",
        "for i, cum_f in enumerate(cf):\n",
        "    if cum_f >= N / 2:\n",
        "        median_class = i\n",
        "        break\n",
        "L = lower_bounds[median_class]\n",
        "F = frequencies[median_class]\n",
        "CF_prev = 0 if median_class == 0 else cf[median_class - 1]\n",
        "h = upper_bounds[median_class] - lower_bounds[median_class]\n",
        "median = L + ((N/2 - CF_prev) / F) * h\n",
        "\n",
        "modal_class = frequencies.index(max(frequencies))\n",
        "L = lower_bounds[modal_class]\n",
        "f1 = frequencies[modal_class]\n",
        "f0 = frequencies[modal_class - 1] if modal_class > 0 else 0\n",
        "f2 = frequencies[modal_class + 1] if modal_class < len(frequencies) - 1 else 0\n",
        "h = upper_bounds[modal_class] - lower_bounds[modal_class]\n",
        "mode = L + ((f1 - f0) / ((2 * f1) - f0 - f2)) * h\n",
        "\n",
        "print(\"Mean:\", round(mean, 2))\n",
        "print(\"Median:\", round(median, 2))\n",
        "print(\"Mode:\", round(mode, 2))\n"
      ],
      "metadata": {
        "colab": {
          "base_uri": "https://localhost:8080/"
        },
        "id": "D4DFxtuyXDtq",
        "outputId": "44fd7d06-57fe-460e-bc53-809cb638fd17"
      },
      "execution_count": 31,
      "outputs": [
        {
          "output_type": "stream",
          "name": "stdout",
          "text": [
            "Mean: 27.0\n",
            "Median: 28.0\n",
            "Mode: 30.91\n"
          ]
        }
      ]
    },
    {
      "cell_type": "code",
      "source": [
        "#14  Simulate data using Python and calculate its central tendency and dispersion.\n",
        "data = [2,10,15,87,92,45,46,32,19]\n",
        "#Standard Deviation\n",
        "np. std(data)"
      ],
      "metadata": {
        "colab": {
          "base_uri": "https://localhost:8080/"
        },
        "id": "3uRU0hBoZJ9K",
        "outputId": "1ea877ff-b6f3-4c5a-a162-d96343a378c5"
      },
      "execution_count": 35,
      "outputs": [
        {
          "output_type": "execute_result",
          "data": {
            "text/plain": [
              "np.float64(30.608640755330658)"
            ]
          },
          "metadata": {},
          "execution_count": 35
        }
      ]
    },
    {
      "cell_type": "code",
      "source": [
        "#Dispersion\n",
        "max(data)-min(data)"
      ],
      "metadata": {
        "colab": {
          "base_uri": "https://localhost:8080/"
        },
        "id": "hoRgumHoaT1x",
        "outputId": "460ae533-253f-43c0-cd44-e7dba7e47162"
      },
      "execution_count": 36,
      "outputs": [
        {
          "output_type": "execute_result",
          "data": {
            "text/plain": [
              "90"
            ]
          },
          "metadata": {},
          "execution_count": 36
        }
      ]
    },
    {
      "cell_type": "code",
      "source": [
        "#15 Use NumPy or pandas to summarize a dataset’s descriptive statistics.\n",
        "import numpy as np\n",
        "import pandas as pd\n",
        "\n",
        "np.random.seed(42)\n",
        "data = np.random.normal(loc=70, scale=10, size=100)\n",
        "\n",
        "df = pd.DataFrame({'Test Scores': data})\n",
        "\n",
        "print(\"Summary Statistics (pandas):\\n\")\n",
        "print(df.describe())\n",
        "\n",
        "mean = np.mean(data)\n",
        "median = np.median(data)\n",
        "std_dev = np.std(data)\n",
        "variance = np.var(data)\n",
        "mode = pd.Series(data).mode().values[0]\n",
        "\n",
        "print(\"\\nAdditional Statistics (NumPy):\")\n",
        "print(f\"Mean: {mean:.2f}\")\n",
        "print(f\"Median: {median:.2f}\")\n",
        "print(f\"Mode: {mode:.2f}\")\n",
        "print(f\"Standard Deviation: {std_dev:.2f}\")\n",
        "print(f\"Variance: {variance:.2f}\")\n"
      ],
      "metadata": {
        "colab": {
          "base_uri": "https://localhost:8080/"
        },
        "id": "JSlhD-muaVa3",
        "outputId": "942a3fa8-fac6-4404-8b66-affc17c75572"
      },
      "execution_count": 38,
      "outputs": [
        {
          "output_type": "stream",
          "name": "stdout",
          "text": [
            "Summary Statistics (pandas):\n",
            "\n",
            "       Test Scores\n",
            "count   100.000000\n",
            "mean     68.961535\n",
            "std       9.081684\n",
            "min      43.802549\n",
            "25%      63.990943\n",
            "50%      68.730437\n",
            "75%      74.059521\n",
            "max      88.522782\n",
            "\n",
            "Additional Statistics (NumPy):\n",
            "Mean: 68.96\n",
            "Median: 68.73\n",
            "Mode: 43.80\n",
            "Standard Deviation: 9.04\n",
            "Variance: 81.65\n"
          ]
        }
      ]
    },
    {
      "cell_type": "code",
      "source": [
        "#16 Plot a boxplot to understand the spread and identify outliers.\n",
        "import matplotlib.pyplot as plt\n",
        "data = [2,10,15,87,92,45,46,32,19]\n",
        "plt.boxplot(data)\n",
        "plt.show()"
      ],
      "metadata": {
        "colab": {
          "base_uri": "https://localhost:8080/",
          "height": 430
        },
        "id": "b-lsqhFjap6A",
        "outputId": "a4b86507-e6de-49d8-ab4c-adc9ed144feb"
      },
      "execution_count": 39,
      "outputs": [
        {
          "output_type": "display_data",
          "data": {
            "text/plain": [
              "<Figure size 640x480 with 1 Axes>"
            ],
            "image/png": "[encoded data removed]"
          },
          "metadata": {}
        }
      ]
    },
    {
      "cell_type": "code",
      "source": [
        "#17 Calculate the interquartile range (IQR) of a dataset\n",
        "import numpy as np\n",
        "\n",
        "data = [12, 15, 14, 10, 18, 21, 25, 30, 22, 19]\n",
        "\n",
        "Q1 = np.percentile(data, 25)\n",
        "Q3 = np.percentile(data, 75)\n",
        "\n",
        "IQR = Q3 - Q1\n",
        "\n",
        "print(f\"Q1: {Q1}\")\n",
        "print(f\"Q3: {Q3}\")\n",
        "print(f\"IQR: {IQR}\")\n"
      ],
      "metadata": {
        "colab": {
          "base_uri": "https://localhost:8080/"
        },
        "id": "Km9HEFyuavLZ",
        "outputId": "a01d1b28-2c40-4985-ca17-f736f7922d98"
      },
      "execution_count": 40,
      "outputs": [
        {
          "output_type": "stream",
          "name": "stdout",
          "text": [
            "Q1: 14.25\n",
            "Q3: 21.75\n",
            "IQR: 7.5\n"
          ]
        }
      ]
    },
    {
      "cell_type": "code",
      "source": [
        "#18 Implement Z-score normalization and explain its significance.\n",
        "import numpy as np\n",
        "\n",
        "data = np.array([50, 60, 70, 80, 90])\n",
        "\n",
        "mean = np.mean(data)\n",
        "std = np.std(data)\n",
        "\n",
        "z_scores = (data - mean) / std\n",
        "\n",
        "print(\"Original data:\", data)\n",
        "print(\"Z-score normalized data:\", z_scores)\n"
      ],
      "metadata": {
        "colab": {
          "base_uri": "https://localhost:8080/"
        },
        "id": "4wDfimpKbESu",
        "outputId": "7e17a831-7bdc-405a-eceb-7e281a043472"
      },
      "execution_count": 41,
      "outputs": [
        {
          "output_type": "stream",
          "name": "stdout",
          "text": [
            "Original data: [50 60 70 80 90]\n",
            "Z-score normalized data: [-1.41421356 -0.70710678  0.          0.70710678  1.41421356]\n"
          ]
        }
      ]
    },
    {
      "cell_type": "code",
      "source": [
        "#19 Compare two datasets using their standard deviations.\n",
        "import numpy as np\n",
        "\n",
        "dataset1 = [10, 12, 23, 23, 16, 23, 21, 16]\n",
        "dataset2 = [10, 25, 50, 75, 100]\n",
        "\n",
        "std1 = np.std(dataset1)\n",
        "std2 = np.std(dataset2)\n",
        "\n",
        "print(\"Standard Deviation of Dataset 1:\", round(std1, 2))\n",
        "print(\"Standard Deviation of Dataset 2:\", round(std2, 2))\n",
        "\n",
        "if std1 > std2:\n",
        "    print(\"Dataset 1 is more spread out (more variable).\")\n",
        "elif std1 < std2:\n",
        "    print(\"Dataset 2 is more spread out (more variable).\")\n",
        "else:\n",
        "    print(\"Both datasets have the same variability.\")\n"
      ],
      "metadata": {
        "id": "SnTTy1T1blXo",
        "outputId": "59e19305-2e1b-4115-a590-ad84712a11db",
        "colab": {
          "base_uri": "https://localhost:8080/"
        }
      },
      "execution_count": 42,
      "outputs": [
        {
          "output_type": "stream",
          "name": "stdout",
          "text": [
            "Standard Deviation of Dataset 1: 4.9\n",
            "Standard Deviation of Dataset 2: 32.65\n",
            "Dataset 2 is more spread out (more variable).\n"
          ]
        }
      ]
    },
    {
      "cell_type": "code",
      "source": [
        "#20 Write a Python program to visualize covariance using a heatmap.\n",
        "import numpy as np\n",
        "import pandas as pd\n",
        "import seaborn as sns\n",
        "import matplotlib.pyplot as plt\n",
        "\n",
        "data = {\n",
        "    'Math': [80, 85, 88, 92, 95],\n",
        "    'Physics': [78, 83, 85, 90, 94],\n",
        "    'Chemistry': [75, 80, 84, 87, 90],\n",
        "    'Biology': [70, 72, 78, 80, 85]\n",
        "}\n",
        "\n",
        "df = pd.DataFrame(data)\n",
        "\n",
        "cov_matrix = df.cov()\n",
        "\n",
        "plt.figure(figsize=(8, 6))\n",
        "sns.heatmap(cov_matrix, annot=True, cmap=\"YlGnBu\", fmt=\".2f\")\n",
        "plt.title(\"Covariance Matrix Heatmap\")\n",
        "plt.show()\n"
      ],
      "metadata": {
        "id": "1qSefRA3b1Fv",
        "outputId": "ecf28702-5887-42c6-acbe-d374d1ec9d3a",
        "colab": {
          "base_uri": "https://localhost:8080/",
          "height": 545
        }
      },
      "execution_count": 45,
      "outputs": [
        {
          "output_type": "display_data",
          "data": {
            "text/plain": [
              "<Figure size 800x600 with 2 Axes>"
            ],
            "image/png": "[encoded data removed]"
          },
          "metadata": {}
        }
      ]
    },
    {
      "cell_type": "code",
      "source": [
        "#21 Use seaborn to create a correlation matrix for a dataset\n",
        "import pandas as pd\n",
        "import seaborn as sns\n",
        "import matplotlib.pyplot as plt\n",
        "\n",
        "data = {\n",
        "    'Math': [80, 85, 88, 92, 95],\n",
        "    'Physics': [78, 83, 85, 90, 94],\n",
        "    'Chemistry': [75, 80, 84, 87, 90],\n",
        "    'Biology': [70, 72, 78, 80, 85]\n",
        "}\n",
        "\n",
        "df = pd.DataFrame(data)\n",
        "\n",
        "correlation_matrix = df.corr()\n",
        "\n",
        "plt.figure(figsize=(8, 6))\n",
        "sns.heatmap(correlation_matrix, annot=True, cmap='coolwarm', center=0, fmt=\".2f\")\n",
        "plt.title(\"Correlation Matrix (Seaborn Heatmap)\")\n",
        "plt.show()\n"
      ],
      "metadata": {
        "id": "GDNrcTrqc6Zc",
        "outputId": "4f8e5eae-032a-457c-e5f3-8e4d66cbd2f5",
        "colab": {
          "base_uri": "https://localhost:8080/",
          "height": 545
        }
      },
      "execution_count": 46,
      "outputs": [
        {
          "output_type": "display_data",
          "data": {
            "text/plain": [
              "<Figure size 800x600 with 2 Axes>"
            ],
            "image/png": "[encoded data removed]"
          },
          "metadata": {}
        }
      ]
    },
    {
      "cell_type": "code",
      "source": [
        "#22 Generate a dataset and implement both variance and standard deviation computations.\n",
        "import numpy as np\n",
        "\n",
        "data = [12, 15, 20, 22, 18, 30, 25, 17, 19, 21]\n",
        "n = len(data)\n",
        "mean = sum(data) / n\n",
        "variance = sum((x - mean) ** 2 for x in data) / n\n",
        "std_dev = variance ** 0.5\n",
        "np_variance = np.var(data)\n",
        "np_std_dev = np.std(data)\n",
        "print(\"Dataset:\", data)\n",
        "print(\"\\n--- Manual Calculation ---\")\n",
        "print(f\"Mean: {mean:.2f}\")\n",
        "print(f\"Variance: {variance:.2f}\")\n",
        "print(f\"Standard Deviation: {std_dev:.2f}\")\n",
        "\n",
        "print(\"\\n--- NumPy Calculation ---\")\n",
        "print(f\"Variance (NumPy): {np_variance:.2f}\")\n",
        "print(f\"Standard Deviation (NumPy): {np_std_dev:.2f}\")\n"
      ],
      "metadata": {
        "id": "voriV6YodGNS",
        "outputId": "7d748817-2341-4abc-c02a-e2e196f6d5b7",
        "colab": {
          "base_uri": "https://localhost:8080/"
        }
      },
      "execution_count": 47,
      "outputs": [
        {
          "output_type": "stream",
          "name": "stdout",
          "text": [
            "Dataset: [12, 15, 20, 22, 18, 30, 25, 17, 19, 21]\n",
            "\n",
            "--- Manual Calculation ---\n",
            "Mean: 19.90\n",
            "Variance: 23.29\n",
            "Standard Deviation: 4.83\n",
            "\n",
            "--- NumPy Calculation ---\n",
            "Variance (NumPy): 23.29\n",
            "Standard Deviation (NumPy): 4.83\n"
          ]
        }
      ]
    },
    {
      "cell_type": "code",
      "source": [
        "#23 Visualize skewness and kurtosis using Python libraries like matplotlib or seaborn.\n",
        "import numpy as np\n",
        "import seaborn as sns\n",
        "import matplotlib.pyplot as plt\n",
        "from scipy.stats import skew, kurtosis\n",
        "np.random.seed(42)\n",
        "data = np.random.gamma(shape=2, scale=2, size=1000)\n",
        "\n",
        "skewness = skew(data)\n",
        "kurt = kurtosis(data)\n",
        "plt.figure(figsize=(10, 6))\n",
        "sns.histplot(data, bins=30, kde=True, color='skyblue')\n",
        "plt.title(f\"Skewness: {skewness:.2f} | Kurtosis: {kurt:.2f}\", fontsize=14)\n",
        "plt.xlabel(\"Value\")\n",
        "plt.ylabel(\"Frequency\")\n",
        "plt.grid(True)\n",
        "plt.show()\n"
      ],
      "metadata": {
        "id": "pd74_cR_dVR4",
        "outputId": "69f620e1-322e-46f6-ca45-01d49e4267ad",
        "colab": {
          "base_uri": "https://localhost:8080/",
          "height": 565
        }
      },
      "execution_count": 48,
      "outputs": [
        {
          "output_type": "display_data",
          "data": {
            "text/plain": [
              "<Figure size 1000x600 with 1 Axes>"
            ],
            "image/png": "[encoded data removed]"
          },
          "metadata": {}
        }
      ]
    },
    {
      "cell_type": "code",
      "source": [
        "#24 Implement the Pearson and Spearman correlation coefficients for a dataset.\n",
        "import numpy as np\n",
        "from scipy.stats import pearsonr, spearmanr\n",
        "\n",
        "x = [10, 20, 30, 40, 50]\n",
        "y = [15, 25, 35, 45, 55]\n",
        "\n",
        "pearson_corr, _ = pearsonr(x, y)\n",
        "\n",
        "spearman_corr, _ = spearmanr(x, y)\n",
        "\n",
        "print(f\"Pearson Correlation: {pearson_corr:.4f}\")\n",
        "print(f\"Spearman Correlation: {spearman_corr:.4f}\")\n"
      ],
      "metadata": {
        "id": "Y8_yPIBxdnPj",
        "outputId": "f7f77aa6-7406-4d31-8a5a-ecc89085d8c1",
        "colab": {
          "base_uri": "https://localhost:8080/"
        }
      },
      "execution_count": 49,
      "outputs": [
        {
          "output_type": "stream",
          "name": "stdout",
          "text": [
            "Pearson Correlation: 1.0000\n",
            "Spearman Correlation: 1.0000\n"
          ]
        }
      ]
    }
  ]
}